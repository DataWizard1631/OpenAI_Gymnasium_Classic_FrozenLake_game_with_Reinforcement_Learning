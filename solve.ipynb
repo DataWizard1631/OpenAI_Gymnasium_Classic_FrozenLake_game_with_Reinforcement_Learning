{
 "cells": [
  {
   "cell_type": "markdown",
   "id": "43172afe",
   "metadata": {},
   "source": [
    " ### Frozen Lake Game"
   ]
  },
  {
   "cell_type": "code",
   "execution_count": 12,
   "id": "e21ce46f",
   "metadata": {},
   "outputs": [],
   "source": [
    "# %pip install numpy pandas random time gymnasium Ipyhthon matplotli"
   ]
  },
  {
   "cell_type": "markdown",
   "id": "352b9403",
   "metadata": {},
   "source": [
    "#### Imports"
   ]
  },
  {
   "cell_type": "code",
   "execution_count": 13,
   "id": "a6ec9fa8",
   "metadata": {},
   "outputs": [],
   "source": [
    "import numpy as np\n",
    "import gymnasium as gym\n",
    "import random\n",
    "import time\n",
    "import matplotlib.pyplot as plt\n",
    "from IPython.display import clear_output"
   ]
  },
  {
   "cell_type": "markdown",
   "id": "bbe79970",
   "metadata": {},
   "source": [
    "#### Create The Environmet"
   ]
  },
  {
   "cell_type": "code",
   "execution_count": 14,
   "id": "88b327d0",
   "metadata": {},
   "outputs": [],
   "source": [
    "env = gym.make(\"FrozenLake-v1\", render_mode=\"ansi\")"
   ]
  },
  {
   "cell_type": "markdown",
   "id": "4dd7f599",
   "metadata": {},
   "source": [
    "#### Creating the Q-table"
   ]
  },
  {
   "cell_type": "code",
   "execution_count": 15,
   "id": "fcbf9439",
   "metadata": {},
   "outputs": [],
   "source": [
    "action_space_size = env.action_space.n\n",
    "state_space_size = env.observation_space.n\n",
    "\n",
    "q_table = np.zeros((state_space_size, action_space_size))\n",
    "# print(\"Q-table initialized with shape:\", q_table)"
   ]
  },
  {
   "cell_type": "markdown",
   "id": "98770b7d",
   "metadata": {},
   "source": [
    "#### Initializing Q-learning parameters"
   ]
  },
  {
   "cell_type": "code",
   "execution_count": 16,
   "id": "1660f651",
   "metadata": {},
   "outputs": [],
   "source": [
    "num_episodes = 10000\n",
    "max_steps_per_episode = 100\n",
    "\n",
    "learning_rate = 0.1\n",
    "discount_rate = 0.99\n",
    "\n",
    "exploration_rate = 1\n",
    "max_exploration_rate = 1\n",
    "min_exploration_rate = 0.01\n",
    "exploration_decay_rate = 0.001"
   ]
  },
  {
   "cell_type": "markdown",
   "id": "8a08ea05",
   "metadata": {},
   "source": [
    "#### Q-Learning Algorithm"
   ]
  },
  {
   "cell_type": "code",
   "execution_count": null,
   "id": "7aeaef05",
   "metadata": {},
   "outputs": [
    {
     "ename": "IndexError",
     "evalue": "only integers, slices (`:`), ellipsis (`...`), numpy.newaxis (`None`) and integer or boolean arrays are valid indices",
     "output_type": "error",
     "traceback": [
      "\u001b[31m---------------------------------------------------------------------------\u001b[39m",
      "\u001b[31mIndexError\u001b[39m                                Traceback (most recent call last)",
      "\u001b[36mCell\u001b[39m\u001b[36m \u001b[39m\u001b[32mIn[20]\u001b[39m\u001b[32m, line 21\u001b[39m\n\u001b[32m     18\u001b[39m new_state, reward, done, truncated, info = env.step(action)\n\u001b[32m     20\u001b[39m \u001b[38;5;66;03m# Update Q-table for Q(s, a)\u001b[39;00m\n\u001b[32m---> \u001b[39m\u001b[32m21\u001b[39m q_table[state,action] = \u001b[43mq_table\u001b[49m\u001b[43m[\u001b[49m\u001b[43mstate\u001b[49m\u001b[43m,\u001b[49m\u001b[43maction\u001b[49m\u001b[43m]\u001b[49m * (\u001b[32m1\u001b[39m-learning_rate) + learning_rate *(reward + discount_rate * np.max(q_table[new_state,:]))\n\u001b[32m     22\u001b[39m state = new_state\n\u001b[32m     23\u001b[39m rewards_current_episode += reward\n",
      "\u001b[31mIndexError\u001b[39m: only integers, slices (`:`), ellipsis (`...`), numpy.newaxis (`None`) and integer or boolean arrays are valid indices"
     ]
    }
   ],
   "source": [
    "rewards_all_episodes = []\n",
    "\n",
    "for episode in range(num_episodes):\n",
    "    state = env.reset()\n",
    "\n",
    "    done = False\n",
    "    rewards_current_episode = 0\n",
    "\n",
    "    for step in range(max_steps_per_episode):\n",
    "\n",
    "        #Exploration-exploitation trade-off\n",
    "        exploration_threshold = random.uniform(0, 1)\n",
    "        if exploration_threshold > exploration_rate:\n",
    "            action = np.argmax(q_table[state])\n",
    "        else:\n",
    "            action = env.action_space.sample()\n",
    "\n",
    "        new_state, reward, done, truncated, info = env.step(action)\n",
    "        \n",
    "        # Update Q-table for Q(s,a)\n",
    "        q_table[state, action] = q_table[state, action] * (1 - learning_rate) + \\\n",
    "            learning_rate * (reward + discount_rate * np.max(q_table[new_state, :]))\n",
    "        state = new_state\n",
    "        rewards_current_episode += reward\n",
    "\n",
    "        if done == True:\n",
    "            break\n",
    "\n",
    "    #Exploration rate decay\n",
    "    exploration_rate = min_exploration_rate + (max_exploration_rate - min_exploration_rate) * np.exp(-exploration_decay_rate * episode)\n",
    "\n",
    "    rewards_all_episodes.append(rewards_current_episode)"
   ]
  },
  {
   "cell_type": "markdown",
   "id": "8ca804e1",
   "metadata": {},
   "source": [
    "#### Calculate and Print the average reward per 1000 episodes"
   ]
  },
  {
   "cell_type": "code",
   "execution_count": null,
   "id": "47c908e1",
   "metadata": {},
   "outputs": [],
   "source": [
    "rewards_per_thousand_episodes = np.split(np.array(rewards_all_episodes), num_episodes/1000)\n",
    "count = 1000\n",
    "print(\"============== Average reward per 1000 episodes =============== \")\n",
    "\n",
    "for r in rewards_per_thousand_episodes:\n",
    "    print(count, \": \", str(sum(r/1000)))\n",
    "    count += 1000\n",
    "\n",
    "print(\"============== Q-table =============== \")\n",
    "print(q_table)"
   ]
  }
 ],
 "metadata": {
  "kernelspec": {
   "display_name": ".venv",
   "language": "python",
   "name": "python3"
  },
  "language_info": {
   "codemirror_mode": {
    "name": "ipython",
    "version": 3
   },
   "file_extension": ".py",
   "mimetype": "text/x-python",
   "name": "python",
   "nbconvert_exporter": "python",
   "pygments_lexer": "ipython3",
   "version": "3.13.3"
  }
 },
 "nbformat": 4,
 "nbformat_minor": 5
}
